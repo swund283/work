{
 "cells": [
  {
   "cell_type": "code",
   "execution_count": 80,
   "metadata": {},
   "outputs": [],
   "source": [
    "from splinter import Browser\n",
    "from bs4 import BeautifulSoup as soup\n",
    "import pandas as pd\n",
    "import regex as re"
   ]
  },
  {
   "cell_type": "code",
   "execution_count": 81,
   "metadata": {},
   "outputs": [],
   "source": [
    "# Mac users\n",
    "executable_path = {'executable_path': '/usr/local/bin/chromedriver'}\n",
    "browser = Browser('chrome', **executable_path, headless=False)\n"
   ]
  },
  {
   "cell_type": "code",
   "execution_count": 82,
   "metadata": {},
   "outputs": [],
   "source": [
    "# Visit the Quotes to Scrape site\n",
    "url = 'https://www.paragonsports.com/search?utf8=%E2%9C%93&q=*&button=search'\n",
    "browser.visit(url)\n"
   ]
  },
  {
   "cell_type": "code",
   "execution_count": 83,
   "metadata": {},
   "outputs": [],
   "source": [
    "# Parse the HTML\n",
    "html = browser.html\n",
    "soup = soup(html, 'html.parser')\n"
   ]
  },
  {
   "cell_type": "code",
   "execution_count": 84,
   "metadata": {},
   "outputs": [],
   "source": [
    "all_data = []\n",
    "\n",
    "data = soup.find_all('a', class_='product-summary__name-link')\n",
    "\n",
    "for n in data:    \n",
    "  all_data.append(n)\n",
    "    "
   ]
  },
  {
   "cell_type": "code",
   "execution_count": 85,
   "metadata": {},
   "outputs": [
    {
     "data": {
      "text/plain": [
       "[<a class=\"product-summary__name-link\" data-analytics='{\"event\":\"productClick\",\"domEvent\":\"click\",\"payload\":{\"id\":\"J06084-5023\",\"name\":\"MOAB 2 WATERPROOF HIKING SHOES - WOMENS\",\"sku\":\"J06084-400034185580\",\"sale\":false,\"price\":125.0,\"category\":\"Footwear\",\"brand\":\"Merrell\"}}' href=\"/products/moab-2-wtpf-5\" itemprop=\"url\">MOAB 2 WATERPROOF HIKING SHOES - WOMENS</a>,\n",
       " <a class=\"product-summary__name-link\" data-analytics='{\"event\":\"productClick\",\"domEvent\":\"click\",\"payload\":{\"id\":\"N1011704-6580\",\"name\":\"BLINDER MOB THE FACE\",\"sku\":\"N1011704-400033924333\",\"sale\":false,\"price\":44.95,\"category\":\"Cycling Clothing\",\"brand\":\"Knog\"}}' href=\"/products/blinder-mob-front-blk\" itemprop=\"url\">BLINDER MOB THE FACE</a>,\n",
       " <a class=\"product-summary__name-link\" data-analytics='{\"event\":\"productClick\",\"domEvent\":\"click\",\"payload\":{\"id\":\"J06014-5023\",\"name\":\"MOAB 2 VENTILATOR SHOE - WOMENS\",\"sku\":\"J06014-400033589549\",\"sale\":false,\"price\":100.0,\"category\":\"Footwear\",\"brand\":\"Merrell\"}}' href=\"/products/moab-2-vent\" itemprop=\"url\">MOAB 2 VENTILATOR SHOE - WOMENS</a>,\n",
       " <a class=\"product-summary__name-link\" data-analytics=\"{&quot;event&quot;:&quot;productClick&quot;,&quot;domEvent&quot;:&quot;click&quot;,&quot;payload&quot;:{&quot;id&quot;:&quot;2580LA-6125&quot;,&quot;name&quot;:&quot;ROSSCLAIR PARKA FUSION FIT - WOMENS&quot;,&quot;sku&quot;:&quot;2580LA-400034064304&quot;,&quot;sale&quot;:false,&quot;price&quot;:995.0,&quot;category&quot;:&quot;Women's Outerwear&quot;,&quot;brand&quot;:&quot;Canada Goose&quot;}}\" href=\"/products/rossclair-parka-ff\" itemprop=\"url\">ROSSCLAIR PARKA FUSION FIT - WOMENS</a>,\n",
       " <a class=\"product-summary__name-link\" data-analytics=\"{&quot;event&quot;:&quot;productClick&quot;,&quot;domEvent&quot;:&quot;click&quot;,&quot;payload&quot;:{&quot;id&quot;:&quot;2090L-6125&quot;,&quot;name&quot;:&quot;LORETTE PARKA - WOMENS&quot;,&quot;sku&quot;:&quot;2090L-400034060047&quot;,&quot;sale&quot;:false,&quot;price&quot;:1050.0,&quot;category&quot;:&quot;Women's Outerwear&quot;,&quot;brand&quot;:&quot;Canada Goose&quot;}}\" href=\"/products/w-lorette-parka\" itemprop=\"url\">LORETTE PARKA - WOMENS</a>,\n",
       " <a class=\"product-summary__name-link\" data-analytics=\"{&quot;event&quot;:&quot;productClick&quot;,&quot;domEvent&quot;:&quot;click&quot;,&quot;payload&quot;:{&quot;id&quot;:&quot;3549-5169&quot;,&quot;name&quot;:&quot;BASIC SKINS LONG SLEEVE CREW SHIRT - WOMENS&quot;,&quot;sku&quot;:&quot;3549-400029199585&quot;,&quot;sale&quot;:false,&quot;price&quot;:33.95,&quot;category&quot;:&quot;Women's Tops&quot;,&quot;brand&quot;:&quot;O'Neill&quot;}}\" href=\"/products/oneill-basic-skins-long-sleeve-crew-shirt-womens\" itemprop=\"url\">BASIC SKINS LONG SLEEVE CREW SHIRT - WOMENS</a>,\n",
       " <a class=\"product-summary__name-link\" data-analytics='{\"event\":\"productClick\",\"domEvent\":\"click\",\"payload\":{\"id\":\"WRT20350U-73\",\"name\":\"FEDERER 21  RACQUET\",\"sku\":\"WRT20350U-400035533304\",\"sale\":false,\"price\":30.0,\"category\":\"Shop By Activity\",\"brand\":\"Wilson\"}}' href=\"/products/federer-21-racquet\" itemprop=\"url\">FEDERER 21  RACQUET</a>,\n",
       " <a class=\"product-summary__name-link\" data-analytics='{\"event\":\"productClick\",\"domEvent\":\"click\",\"payload\":{\"id\":\"1012A457-24\",\"name\":\"GEL-KAYANO 26 RUNNING SHOES - WOMENS\",\"sku\":\"1012A457-400036254413\",\"sale\":true,\"price\":119.95,\"category\":\"Shop By Activity\",\"brand\":\"Asics\"}}' href=\"/products/gel-kayano-26\" itemprop=\"url\">GEL-KAYANO 26 RUNNING SHOES - WOMENS</a>,\n",
       " <a class=\"product-summary__name-link\" data-analytics='{\"event\":\"productClick\",\"domEvent\":\"click\",\"payload\":{\"id\":\"AO2597-5\",\"name\":\"LEGEND 7 CLUB (MG) MULTI-GROUND FOOTBALL BOOT - MENS\",\"sku\":\"AO2597-400036221446\",\"sale\":true,\"price\":29.99,\"category\":\"Mens Cleats\",\"brand\":\"Nike\"}}' href=\"/products/legend-7-club-mg-mens\" itemprop=\"url\">LEGEND 7 CLUB (MG) MULTI-GROUND FOOTBALL BOOT - MENS</a>,\n",
       " <a class=\"product-summary__name-link\" data-analytics='{\"event\":\"productClick\",\"domEvent\":\"click\",\"payload\":{\"id\":\"LLFBLK-2358\",\"name\":\"LIFELINE FLAT BAND LOOP\",\"sku\":\"LLFBLK-400034460311\",\"sale\":false,\"price\":19.99,\"category\":\"Cycling Clothing\",\"brand\":\"lifeline\"}}' href=\"/products/lifeline-flat-band-loop\" itemprop=\"url\">LIFELINE FLAT BAND LOOP</a>,\n",
       " <a class=\"product-summary__name-link\" data-analytics='{\"event\":\"productClick\",\"domEvent\":\"click\",\"payload\":{\"id\":\"HC6119-110\",\"name\":\"MICRO-ELITE CHAMOIS HALF MASK - ADULT\",\"sku\":\"HC6119-400036540066\",\"sale\":false,\"price\":21.99,\"category\":\"Neckwear\",\"brand\":\"Hot Chillys\"}}' href=\"/products/micro-elite-half-mask\" itemprop=\"url\">MICRO-ELITE CHAMOIS HALF MASK - ADULT</a>,\n",
       " <a class=\"product-summary__name-link\" data-analytics='{\"event\":\"productClick\",\"domEvent\":\"click\",\"payload\":{\"id\":\"MULTIAIRFLEX_II-5317\",\"name\":\"MULTI AIR FLEX II CYCLING SHOE  - MENS\",\"sku\":\"MULTIAIRFLEX_II-400037038173\",\"sale\":false,\"price\":99.99,\"category\":\"Footwear\",\"brand\":\"Louis Garneau\"}}' href=\"/products/spin-1\" itemprop=\"url\">MULTI AIR FLEX II CYCLING SHOE  - MENS</a>,\n",
       " <a class=\"product-summary__name-link\" data-analytics='{\"event\":\"productClick\",\"domEvent\":\"click\",\"payload\":{\"id\":\"MK2000MB-2438\",\"name\":\"BALLISTIC BOMBER JACKET - MENS\",\"sku\":\"MK2000MB-400036211836\",\"sale\":true,\"price\":895.0,\"category\":\"Shop By Activity\",\"brand\":\"Moose Knuckles\"}}' href=\"/products/balistic-bomber\" itemprop=\"url\">BALLISTIC BOMBER JACKET - MENS</a>,\n",
       " <a class=\"product-summary__name-link\" data-analytics='{\"event\":\"productClick\",\"domEvent\":\"click\",\"payload\":{\"id\":\"76061-63\",\"name\":\"NBA ALL CONFERENCE BALL YOUTH\",\"sku\":\"76061-400034266593\",\"sale\":true,\"price\":19.96,\"category\":\"Activities Basketball\",\"brand\":\"Spalding\"}}' href=\"/products/nba-all-conference-ball-5\" itemprop=\"url\">NBA ALL CONFERENCE BALL YOUTH</a>,\n",
       " <a class=\"product-summary__name-link\" data-analytics='{\"event\":\"productClick\",\"domEvent\":\"click\",\"payload\":{\"id\":\"S486-383\",\"name\":\"THERMASILK POINT.PANTS - WOMEN\",\"sku\":\"S486-400034359905\",\"sale\":false,\"price\":54.95,\"category\":\"Womens Baselayer \\u0026 Underwear\",\"brand\":\"Terramar\"}}' href=\"/products/w-thermasilk-point-pants\" itemprop=\"url\">THERMASILK POINT.PANTS - WOMEN</a>,\n",
       " <a class=\"product-summary__name-link\" data-analytics='{\"event\":\"productClick\",\"domEvent\":\"click\",\"payload\":{\"id\":\"41550-5006\",\"name\":\"PRECIP ECO PANT\",\"sku\":\"41550-400035756154\",\"sale\":false,\"price\":80.0,\"category\":\"Clothing\",\"brand\":\"Marmot\"}}' href=\"/products/precip-eco-pant\" itemprop=\"url\">PRECIP ECO PANT</a>,\n",
       " <a class=\"product-summary__name-link\" data-analytics='{\"event\":\"productClick\",\"domEvent\":\"click\",\"payload\":{\"id\":\"1700-1095\",\"name\":\"AIRR INSOLE - WOMENS\",\"sku\":\"1700-400023121179\",\"sale\":false,\"price\":27.99,\"category\":\"Injury Prevention \\u0026 Recovery\",\"brand\":\"Sof Sole\"}}' href=\"/products/airr-insole-womens\" itemprop=\"url\">AIRR INSOLE - WOMENS</a>,\n",
       " <a class=\"product-summary__name-link\" data-analytics='{\"event\":\"productClick\",\"domEvent\":\"click\",\"payload\":{\"id\":\"120284-4\",\"name\":\"ADRENALINE GTS 19 RUNNING SHOES - WOMENS\",\"sku\":\"120284-400035713928\",\"sale\":true,\"price\":90.95,\"category\":\"Shop By Activity\",\"brand\":\"Brooks\"}}' href=\"/products/adrenaline-gts-19-20\" itemprop=\"url\">ADRENALINE GTS 19 RUNNING SHOES - WOMENS</a>,\n",
       " <a class=\"product-summary__name-link\" data-analytics='{\"event\":\"productClick\",\"domEvent\":\"click\",\"payload\":{\"id\":\"24202-6550\",\"name\":\"BRIDGER VENT MID WATERPROOF HIKING BOOT  - WOMENS\",\"sku\":\"24202-400036050121\",\"sale\":false,\"price\":170.0,\"category\":\"Footwear\",\"brand\":\"Oboz Footwear\"}}' href=\"/products/l-bridger-mid-bdry\" itemprop=\"url\">BRIDGER VENT MID WATERPROOF HIKING BOOT  - WOMENS</a>,\n",
       " <a class=\"product-summary__name-link\" data-analytics=\"{&quot;event&quot;:&quot;productClick&quot;,&quot;domEvent&quot;:&quot;click&quot;,&quot;payload&quot;:{&quot;id&quot;:&quot;274404-5439&quot;,&quot;name&quot;:&quot;PROLOGUE STROM PANTS - WOMENS&quot;,&quot;sku&quot;:&quot;274404-400036893780&quot;,&quot;sale&quot;:false,&quot;price&quot;:159.0,&quot;category&quot;:&quot;Women's Bottoms&quot;,&quot;brand&quot;:&quot;Outdoor Research&quot;}}\" href=\"/products/prologue-strom-pants\" itemprop=\"url\">PROLOGUE STROM PANTS - WOMENS</a>,\n",
       " <a class=\"product-summary__name-link\" data-analytics='{\"event\":\"productClick\",\"domEvent\":\"click\",\"payload\":{\"id\":\"1019269-6948\",\"name\":\"BONDI 6 RUNNING SHOE - MENS\",\"sku\":\"1019269-400036234712\",\"sale\":false,\"price\":150.0,\"category\":\"Shop By Activity\",\"brand\":\"Hoka One One\"}}' href=\"/products/bondi-6-7\" itemprop=\"url\">BONDI 6 RUNNING SHOE - MENS</a>,\n",
       " <a class=\"product-summary__name-link\" data-analytics='{\"event\":\"productClick\",\"domEvent\":\"click\",\"payload\":{\"id\":\"741007-1520\",\"name\":\"MINI RACKET PURE DRIVE\",\"sku\":\"741007-400037018625\",\"sale\":false,\"price\":19.99,\"category\":\"Shop By Activity\",\"brand\":\"Babolat\"}}' href=\"/products/mini-racket-pure-drive\" itemprop=\"url\">MINI RACKET PURE DRIVE</a>,\n",
       " <a class=\"product-summary__name-link\" data-analytics='{\"event\":\"productClick\",\"domEvent\":\"click\",\"payload\":{\"id\":\"J06014W-5023\",\"name\":\"MOAB 2 VENTILATOR HIKING BOOTS - WOMENS\",\"sku\":\"J06014W-400035915803\",\"sale\":false,\"price\":100.0,\"category\":\"Footwear\",\"brand\":\"Merrell\"}}' href=\"/products/moab-2-vent-4\" itemprop=\"url\">MOAB 2 VENTILATOR HIKING BOOTS - WOMENS</a>,\n",
       " <a class=\"product-summary__name-link\" data-analytics='{\"event\":\"productClick\",\"domEvent\":\"click\",\"payload\":{\"id\":\"L40485200-5421\",\"name\":\"OUTLINE GTX W PHANTO\",\"sku\":\"L40485200-400035432256\",\"sale\":false,\"price\":130.0,\"category\":\"Footwear\",\"brand\":\"Salomon\"}}' href=\"/products/outline-gtx-w-phanto\" itemprop=\"url\">OUTLINE GTX W PHANTO</a>,\n",
       " <a class=\"product-summary__name-link\" data-analytics='{\"event\":\"productClick\",\"domEvent\":\"click\",\"payload\":{\"id\":\"579419-1310\",\"name\":\"POLARTEC WINDBLOC LINER\",\"sku\":\"579419-400035474058\",\"sale\":false,\"price\":25.95,\"category\":\"Mens Headwear\",\"brand\":\"Turtle Fur\"}}' href=\"/products/polartec-windbloc-liner\" itemprop=\"url\">POLARTEC WINDBLOC LINER</a>,\n",
       " <a class=\"product-summary__name-link\" data-analytics='{\"event\":\"productClick\",\"domEvent\":\"click\",\"payload\":{\"id\":\"76063-63\",\"name\":\"NBA ALL CONFERENCE BALL OFFICIAL\",\"sku\":\"76063-400034266579\",\"sale\":true,\"price\":19.96,\"category\":\"Activities Basketball\",\"brand\":\"Spalding\"}}' href=\"/products/nba-all-conference-ball-3\" itemprop=\"url\">NBA ALL CONFERENCE BALL OFFICIAL</a>,\n",
       " <a class=\"product-summary__name-link\" data-analytics='{\"event\":\"productClick\",\"domEvent\":\"click\",\"payload\":{\"id\":\"2062M-6125\",\"name\":\"LANGFORD PARKA - MENS\",\"sku\":\"2062M-400036285523\",\"sale\":false,\"price\":995.0,\"category\":\"Mens Outerwear\",\"brand\":\"Canada Goose\"}}' href=\"/products/langford-parka-mens\" itemprop=\"url\">LANGFORD PARKA - MENS</a>,\n",
       " <a class=\"product-summary__name-link\" data-analytics='{\"event\":\"productClick\",\"domEvent\":\"click\",\"payload\":{\"id\":\"1220-8165\",\"name\":\"WATERPROOF BACKPACK - 13 L\",\"sku\":\"1220-400037072726\",\"sale\":false,\"price\":110.0,\"category\":\"Backpacks \\u0026 Bags\",\"brand\":\"Rains Usa Inc\"}}' href=\"/products/backpack-1\" itemprop=\"url\">WATERPROOF BACKPACK - 13 L</a>,\n",
       " <a class=\"product-summary__name-link\" data-analytics='{\"event\":\"productClick\",\"domEvent\":\"click\",\"payload\":{\"id\":\"DY0075-3\",\"name\":\"X PRO SOCCER SHIN GUARDS - ADULT\",\"sku\":\"DY0075-400036999956\",\"sale\":false,\"price\":19.99,\"category\":\"Soccer\",\"brand\":\"adidas\"}}' href=\"/products/xpro-shin-2\" itemprop=\"url\">X PRO SOCCER SHIN GUARDS - ADULT</a>,\n",
       " <a class=\"product-summary__name-link\" data-analytics='{\"event\":\"productClick\",\"domEvent\":\"click\",\"payload\":{\"id\":\"T3-3192\",\"name\":\"IMAX T3 ELECTRIC SCOOTER\",\"sku\":\"T3-400036074844\",\"sale\":false,\"price\":999.95,\"category\":\"Scooters\",\"brand\":\"Imax Scooters\"}}' href=\"/products/imax-t3-electric-scooter\" itemprop=\"url\">IMAX T3 ELECTRIC SCOOTER</a>]"
      ]
     },
     "execution_count": 85,
     "metadata": {},
     "output_type": "execute_result"
    }
   ],
   "source": [
    "all_data"
   ]
  },
  {
   "cell_type": "code",
   "execution_count": 86,
   "metadata": {},
   "outputs": [],
   "source": [
    "# Visit the Quotes to Scrape site\n",
    "url = 'https://www.paragonsports.com/search?button=search&page=4&q=%2A&utf8=%E2%9C%93'\n",
    "browser.visit(url)\n"
   ]
  },
  {
   "cell_type": "code",
   "execution_count": 89,
   "metadata": {},
   "outputs": [
    {
     "ename": "AttributeError",
     "evalue": "ResultSet object has no attribute 'find_all'. You're probably treating a list of elements like a single element. Did you call find_all() when you meant to call find()?",
     "output_type": "error",
     "traceback": [
      "\u001b[0;31m---------------------------------------------------------------------------\u001b[0m",
      "\u001b[0;31mAttributeError\u001b[0m                            Traceback (most recent call last)",
      "\u001b[0;32m<ipython-input-89-b8a78f30bc5a>\u001b[0m in \u001b[0;36m<module>\u001b[0;34m\u001b[0m\n\u001b[1;32m      1\u001b[0m \u001b[0mall_data\u001b[0m \u001b[0;34m=\u001b[0m \u001b[0;34m[\u001b[0m\u001b[0;34m]\u001b[0m\u001b[0;34m\u001b[0m\u001b[0;34m\u001b[0m\u001b[0m\n\u001b[1;32m      2\u001b[0m \u001b[0;34m\u001b[0m\u001b[0m\n\u001b[0;32m----> 3\u001b[0;31m \u001b[0mdata\u001b[0m \u001b[0;34m=\u001b[0m \u001b[0msoup\u001b[0m\u001b[0;34m.\u001b[0m\u001b[0mfind_all\u001b[0m\u001b[0;34m(\u001b[0m\u001b[0;34m'a'\u001b[0m\u001b[0;34m,\u001b[0m \u001b[0mclass_\u001b[0m\u001b[0;34m=\u001b[0m\u001b[0;34m'product-summary__name-link'\u001b[0m\u001b[0;34m)\u001b[0m\u001b[0;34m\u001b[0m\u001b[0;34m\u001b[0m\u001b[0m\n\u001b[0m\u001b[1;32m      4\u001b[0m \u001b[0;34m\u001b[0m\u001b[0m\n\u001b[1;32m      5\u001b[0m \u001b[0;32mfor\u001b[0m \u001b[0mn\u001b[0m \u001b[0;32min\u001b[0m \u001b[0mdata\u001b[0m\u001b[0;34m:\u001b[0m\u001b[0;34m\u001b[0m\u001b[0;34m\u001b[0m\u001b[0m\n",
      "\u001b[0;32m~/opt/anaconda3/lib/python3.7/site-packages/bs4/element.py\u001b[0m in \u001b[0;36m__getattr__\u001b[0;34m(self, key)\u001b[0m\n\u001b[1;32m   2079\u001b[0m         \u001b[0;34m\"\"\"Raise a helpful exception to explain a common code fix.\"\"\"\u001b[0m\u001b[0;34m\u001b[0m\u001b[0;34m\u001b[0m\u001b[0m\n\u001b[1;32m   2080\u001b[0m         raise AttributeError(\n\u001b[0;32m-> 2081\u001b[0;31m             \u001b[0;34m\"ResultSet object has no attribute '%s'. You're probably treating a list of elements like a single element. Did you call find_all() when you meant to call find()?\"\u001b[0m \u001b[0;34m%\u001b[0m \u001b[0mkey\u001b[0m\u001b[0;34m\u001b[0m\u001b[0;34m\u001b[0m\u001b[0m\n\u001b[0m\u001b[1;32m   2082\u001b[0m         )\n",
      "\u001b[0;31mAttributeError\u001b[0m: ResultSet object has no attribute 'find_all'. You're probably treating a list of elements like a single element. Did you call find_all() when you meant to call find()?"
     ]
    }
   ],
   "source": [
    "all_data = []\n",
    "\n",
    "data = soup.find_all('a', class_='product-summary__name-link')\n",
    "\n",
    "for n in data:    \n",
    "  all_data.append(n)"
   ]
  },
  {
   "cell_type": "code",
   "execution_count": null,
   "metadata": {},
   "outputs": [],
   "source": [
    "all_data"
   ]
  }
 ],
 "metadata": {
  "kernelspec": {
   "display_name": "PythonData",
   "language": "python",
   "name": "pythondata"
  },
  "language_info": {
   "codemirror_mode": {
    "name": "ipython",
    "version": 3
   },
   "file_extension": ".py",
   "mimetype": "text/x-python",
   "name": "python",
   "nbconvert_exporter": "python",
   "pygments_lexer": "ipython3",
   "version": "3.7.6"
  }
 },
 "nbformat": 4,
 "nbformat_minor": 4
}
